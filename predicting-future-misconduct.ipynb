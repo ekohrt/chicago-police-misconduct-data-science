{
  "nbformat": 4,
  "nbformat_minor": 0,
  "metadata": {
    "colab": {
      "provenance": []
    },
    "kernelspec": {
      "name": "python3",
      "display_name": "Python 3"
    },
    "language_info": {
      "name": "python"
    }
  },
  "cells": [
    {
      "cell_type": "code",
      "source": [
        "import numpy as np\n",
        "import pandas as pd"
      ],
      "metadata": {
        "id": "Q0o7MFrwrlVy"
      },
      "execution_count": null,
      "outputs": []
    },
    {
      "cell_type": "code",
      "source": [
        "from google.colab import drive\n",
        "drive.mount('/content/drive', force_remount=True)"
      ],
      "metadata": {
        "colab": {
          "base_uri": "https://localhost:8080/"
        },
        "id": "3M1HHGAMrmVd",
        "outputId": "0fd6947a-a29d-43ad-9461-fae5194ea897"
      },
      "execution_count": null,
      "outputs": [
        {
          "output_type": "stream",
          "name": "stdout",
          "text": [
            "Mounted at /content/drive\n"
          ]
        }
      ]
    },
    {
      "cell_type": "code",
      "source": [
        "data = pd.read_csv('/content/drive/MyDrive/PoliceProject/checkpoint-4/clean_supervised_data.csv')\n",
        "data.head()"
      ],
      "metadata": {
        "colab": {
          "base_uri": "https://localhost:8080/",
          "height": 421
        },
        "id": "2xJpD6FmrqSk",
        "outputId": "1aba96ea-5798-41f1-a6fb-46152131f9b8"
      },
      "execution_count": null,
      "outputs": [
        {
          "output_type": "execute_result",
          "data": {
            "text/plain": [
              "   Unnamed: 0  Column      id recc_finding               recc_outcome  \\\n",
              "0           0       0  219949           SU                  Reprimand   \n",
              "1           1       1  221159          NaN                    Unknown   \n",
              "2           2       2  222506           SU                  Reprimand   \n",
              "3           3       3  223815          NaN                    Unknown   \n",
              "4           4       4  187241           SU  1 Week or less Suspension   \n",
              "\n",
              "  final_finding       final_outcome  allegation_category_id  officer_id  \\\n",
              "0            SU  Penalty Not Served                   199.0       29856   \n",
              "1           NaN             Unknown                   194.0       31923   \n",
              "2            SU           Reprimand                    91.0       25965   \n",
              "3           NaN             Unknown                     NaN        4278   \n",
              "4            SU           Reprimand                   173.0       17834   \n",
              "\n",
              "  disciplined  ...  discipline_count honorable_mention_count  \\\n",
              "0       False  ...                 4                       5   \n",
              "1         NaN  ...                 1                      30   \n",
              "2        True  ...                 2                      25   \n",
              "3         NaN  ...                 3                      27   \n",
              "4        True  ...                 3                       3   \n",
              "\n",
              "  major_award_count trr_count unsustained_count           incident_date  \\\n",
              "0                 0         0                 1  2011-04-13 00:00:00+00   \n",
              "1                 1         2                 7  2011-11-15 00:00:00+00   \n",
              "2                 0         2                 2  2012-01-20 00:00:00+00   \n",
              "3                 1         4                 1  2012-04-25 00:00:00+00   \n",
              "4                 0        11                 1  2007-08-09 00:00:00+00   \n",
              "\n",
              "   incident_in_2_years_bool  age_at_time_of_incident  days_experience  \\\n",
              "0                         0                     49.0           4419.0   \n",
              "1                         0                     43.0           5825.0   \n",
              "2                         0                     41.0           5981.0   \n",
              "3                         0                     35.0           4097.0   \n",
              "4                         1                     29.0           2263.0   \n",
              "\n",
              "                    category_name  \n",
              "0  Operation/Personnel Violations  \n",
              "1  Operation/Personnel Violations  \n",
              "2               Lockup Procedures  \n",
              "3                         Unknown  \n",
              "4   Conduct Unbecoming (Off-Duty)  \n",
              "\n",
              "[5 rows x 35 columns]"
            ],
            "text/html": [
              "\n",
              "  <div id=\"df-bb100eb8-278a-4126-94f1-063ca37c4d95\">\n",
              "    <div class=\"colab-df-container\">\n",
              "      <div>\n",
              "<style scoped>\n",
              "    .dataframe tbody tr th:only-of-type {\n",
              "        vertical-align: middle;\n",
              "    }\n",
              "\n",
              "    .dataframe tbody tr th {\n",
              "        vertical-align: top;\n",
              "    }\n",
              "\n",
              "    .dataframe thead th {\n",
              "        text-align: right;\n",
              "    }\n",
              "</style>\n",
              "<table border=\"1\" class=\"dataframe\">\n",
              "  <thead>\n",
              "    <tr style=\"text-align: right;\">\n",
              "      <th></th>\n",
              "      <th>Unnamed: 0</th>\n",
              "      <th>Column</th>\n",
              "      <th>id</th>\n",
              "      <th>recc_finding</th>\n",
              "      <th>recc_outcome</th>\n",
              "      <th>final_finding</th>\n",
              "      <th>final_outcome</th>\n",
              "      <th>allegation_category_id</th>\n",
              "      <th>officer_id</th>\n",
              "      <th>disciplined</th>\n",
              "      <th>...</th>\n",
              "      <th>discipline_count</th>\n",
              "      <th>honorable_mention_count</th>\n",
              "      <th>major_award_count</th>\n",
              "      <th>trr_count</th>\n",
              "      <th>unsustained_count</th>\n",
              "      <th>incident_date</th>\n",
              "      <th>incident_in_2_years_bool</th>\n",
              "      <th>age_at_time_of_incident</th>\n",
              "      <th>days_experience</th>\n",
              "      <th>category_name</th>\n",
              "    </tr>\n",
              "  </thead>\n",
              "  <tbody>\n",
              "    <tr>\n",
              "      <th>0</th>\n",
              "      <td>0</td>\n",
              "      <td>0</td>\n",
              "      <td>219949</td>\n",
              "      <td>SU</td>\n",
              "      <td>Reprimand</td>\n",
              "      <td>SU</td>\n",
              "      <td>Penalty Not Served</td>\n",
              "      <td>199.0</td>\n",
              "      <td>29856</td>\n",
              "      <td>False</td>\n",
              "      <td>...</td>\n",
              "      <td>4</td>\n",
              "      <td>5</td>\n",
              "      <td>0</td>\n",
              "      <td>0</td>\n",
              "      <td>1</td>\n",
              "      <td>2011-04-13 00:00:00+00</td>\n",
              "      <td>0</td>\n",
              "      <td>49.0</td>\n",
              "      <td>4419.0</td>\n",
              "      <td>Operation/Personnel Violations</td>\n",
              "    </tr>\n",
              "    <tr>\n",
              "      <th>1</th>\n",
              "      <td>1</td>\n",
              "      <td>1</td>\n",
              "      <td>221159</td>\n",
              "      <td>NaN</td>\n",
              "      <td>Unknown</td>\n",
              "      <td>NaN</td>\n",
              "      <td>Unknown</td>\n",
              "      <td>194.0</td>\n",
              "      <td>31923</td>\n",
              "      <td>NaN</td>\n",
              "      <td>...</td>\n",
              "      <td>1</td>\n",
              "      <td>30</td>\n",
              "      <td>1</td>\n",
              "      <td>2</td>\n",
              "      <td>7</td>\n",
              "      <td>2011-11-15 00:00:00+00</td>\n",
              "      <td>0</td>\n",
              "      <td>43.0</td>\n",
              "      <td>5825.0</td>\n",
              "      <td>Operation/Personnel Violations</td>\n",
              "    </tr>\n",
              "    <tr>\n",
              "      <th>2</th>\n",
              "      <td>2</td>\n",
              "      <td>2</td>\n",
              "      <td>222506</td>\n",
              "      <td>SU</td>\n",
              "      <td>Reprimand</td>\n",
              "      <td>SU</td>\n",
              "      <td>Reprimand</td>\n",
              "      <td>91.0</td>\n",
              "      <td>25965</td>\n",
              "      <td>True</td>\n",
              "      <td>...</td>\n",
              "      <td>2</td>\n",
              "      <td>25</td>\n",
              "      <td>0</td>\n",
              "      <td>2</td>\n",
              "      <td>2</td>\n",
              "      <td>2012-01-20 00:00:00+00</td>\n",
              "      <td>0</td>\n",
              "      <td>41.0</td>\n",
              "      <td>5981.0</td>\n",
              "      <td>Lockup Procedures</td>\n",
              "    </tr>\n",
              "    <tr>\n",
              "      <th>3</th>\n",
              "      <td>3</td>\n",
              "      <td>3</td>\n",
              "      <td>223815</td>\n",
              "      <td>NaN</td>\n",
              "      <td>Unknown</td>\n",
              "      <td>NaN</td>\n",
              "      <td>Unknown</td>\n",
              "      <td>NaN</td>\n",
              "      <td>4278</td>\n",
              "      <td>NaN</td>\n",
              "      <td>...</td>\n",
              "      <td>3</td>\n",
              "      <td>27</td>\n",
              "      <td>1</td>\n",
              "      <td>4</td>\n",
              "      <td>1</td>\n",
              "      <td>2012-04-25 00:00:00+00</td>\n",
              "      <td>0</td>\n",
              "      <td>35.0</td>\n",
              "      <td>4097.0</td>\n",
              "      <td>Unknown</td>\n",
              "    </tr>\n",
              "    <tr>\n",
              "      <th>4</th>\n",
              "      <td>4</td>\n",
              "      <td>4</td>\n",
              "      <td>187241</td>\n",
              "      <td>SU</td>\n",
              "      <td>1 Week or less Suspension</td>\n",
              "      <td>SU</td>\n",
              "      <td>Reprimand</td>\n",
              "      <td>173.0</td>\n",
              "      <td>17834</td>\n",
              "      <td>True</td>\n",
              "      <td>...</td>\n",
              "      <td>3</td>\n",
              "      <td>3</td>\n",
              "      <td>0</td>\n",
              "      <td>11</td>\n",
              "      <td>1</td>\n",
              "      <td>2007-08-09 00:00:00+00</td>\n",
              "      <td>1</td>\n",
              "      <td>29.0</td>\n",
              "      <td>2263.0</td>\n",
              "      <td>Conduct Unbecoming (Off-Duty)</td>\n",
              "    </tr>\n",
              "  </tbody>\n",
              "</table>\n",
              "<p>5 rows × 35 columns</p>\n",
              "</div>\n",
              "      <button class=\"colab-df-convert\" onclick=\"convertToInteractive('df-bb100eb8-278a-4126-94f1-063ca37c4d95')\"\n",
              "              title=\"Convert this dataframe to an interactive table.\"\n",
              "              style=\"display:none;\">\n",
              "        \n",
              "  <svg xmlns=\"http://www.w3.org/2000/svg\" height=\"24px\"viewBox=\"0 0 24 24\"\n",
              "       width=\"24px\">\n",
              "    <path d=\"M0 0h24v24H0V0z\" fill=\"none\"/>\n",
              "    <path d=\"M18.56 5.44l.94 2.06.94-2.06 2.06-.94-2.06-.94-.94-2.06-.94 2.06-2.06.94zm-11 1L8.5 8.5l.94-2.06 2.06-.94-2.06-.94L8.5 2.5l-.94 2.06-2.06.94zm10 10l.94 2.06.94-2.06 2.06-.94-2.06-.94-.94-2.06-.94 2.06-2.06.94z\"/><path d=\"M17.41 7.96l-1.37-1.37c-.4-.4-.92-.59-1.43-.59-.52 0-1.04.2-1.43.59L10.3 9.45l-7.72 7.72c-.78.78-.78 2.05 0 2.83L4 21.41c.39.39.9.59 1.41.59.51 0 1.02-.2 1.41-.59l7.78-7.78 2.81-2.81c.8-.78.8-2.07 0-2.86zM5.41 20L4 18.59l7.72-7.72 1.47 1.35L5.41 20z\"/>\n",
              "  </svg>\n",
              "      </button>\n",
              "      \n",
              "  <style>\n",
              "    .colab-df-container {\n",
              "      display:flex;\n",
              "      flex-wrap:wrap;\n",
              "      gap: 12px;\n",
              "    }\n",
              "\n",
              "    .colab-df-convert {\n",
              "      background-color: #E8F0FE;\n",
              "      border: none;\n",
              "      border-radius: 50%;\n",
              "      cursor: pointer;\n",
              "      display: none;\n",
              "      fill: #1967D2;\n",
              "      height: 32px;\n",
              "      padding: 0 0 0 0;\n",
              "      width: 32px;\n",
              "    }\n",
              "\n",
              "    .colab-df-convert:hover {\n",
              "      background-color: #E2EBFA;\n",
              "      box-shadow: 0px 1px 2px rgba(60, 64, 67, 0.3), 0px 1px 3px 1px rgba(60, 64, 67, 0.15);\n",
              "      fill: #174EA6;\n",
              "    }\n",
              "\n",
              "    [theme=dark] .colab-df-convert {\n",
              "      background-color: #3B4455;\n",
              "      fill: #D2E3FC;\n",
              "    }\n",
              "\n",
              "    [theme=dark] .colab-df-convert:hover {\n",
              "      background-color: #434B5C;\n",
              "      box-shadow: 0px 1px 3px 1px rgba(0, 0, 0, 0.15);\n",
              "      filter: drop-shadow(0px 1px 2px rgba(0, 0, 0, 0.3));\n",
              "      fill: #FFFFFF;\n",
              "    }\n",
              "  </style>\n",
              "\n",
              "      <script>\n",
              "        const buttonEl =\n",
              "          document.querySelector('#df-bb100eb8-278a-4126-94f1-063ca37c4d95 button.colab-df-convert');\n",
              "        buttonEl.style.display =\n",
              "          google.colab.kernel.accessAllowed ? 'block' : 'none';\n",
              "\n",
              "        async function convertToInteractive(key) {\n",
              "          const element = document.querySelector('#df-bb100eb8-278a-4126-94f1-063ca37c4d95');\n",
              "          const dataTable =\n",
              "            await google.colab.kernel.invokeFunction('convertToInteractive',\n",
              "                                                     [key], {});\n",
              "          if (!dataTable) return;\n",
              "\n",
              "          const docLinkHtml = 'Like what you see? Visit the ' +\n",
              "            '<a target=\"_blank\" href=https://colab.research.google.com/notebooks/data_table.ipynb>data table notebook</a>'\n",
              "            + ' to learn more about interactive tables.';\n",
              "          element.innerHTML = '';\n",
              "          dataTable['output_type'] = 'display_data';\n",
              "          await google.colab.output.renderOutput(dataTable, element);\n",
              "          const docLink = document.createElement('div');\n",
              "          docLink.innerHTML = docLinkHtml;\n",
              "          element.appendChild(docLink);\n",
              "        }\n",
              "      </script>\n",
              "    </div>\n",
              "  </div>\n",
              "  "
            ]
          },
          "metadata": {},
          "execution_count": 3
        }
      ]
    },
    {
      "cell_type": "markdown",
      "source": [
        "# Data Pre-processing"
      ],
      "metadata": {
        "id": "HbFllNXvr09q"
      }
    },
    {
      "cell_type": "code",
      "source": [
        "columns_to_keep = [#'Column', \n",
        "                   #'id', \n",
        "                   #'recc_finding', \n",
        "                   'recc_outcome', \n",
        "                   #'final_finding',\n",
        "                    'final_outcome', \n",
        "                   #'allegation_category_id', \n",
        "                   #'officer_id', \n",
        "                   'disciplined', # has nAn\n",
        "                   #'allegation_id', \n",
        "                   'gender', \n",
        "                   'race', \n",
        "                   #'appointed_date', \n",
        "                   #'rank', #???????????????????????\n",
        "                   #'birth_year', \n",
        "                   'complaint_percentile', \n",
        "                   'civilian_allegation_percentile',\n",
        "                   'honorable_mention_percentile', \n",
        "                   'internal_allegation_percentile',\n",
        "                  #  'trr_percentile', # 500 nans i think\n",
        "                   'allegation_count', \n",
        "                   'sustained_count',\n",
        "                   'civilian_compliment_count', \n",
        "                   'current_salary', \n",
        "                   'discipline_count',\n",
        "                   'honorable_mention_count', \n",
        "                   'major_award_count', \n",
        "                   'trr_count',\n",
        "                   'unsustained_count', \n",
        "                   #'incident_date', \n",
        "                  #  'incident_in_2_years_bool', ################ LABEL\n",
        "                   'age_at_time_of_incident', \n",
        "                   'days_experience', \n",
        "                   'category_name']\n",
        "\n",
        "categorical_columns = [\n",
        "                   #'recc_finding', \n",
        "                   'recc_outcome', \n",
        "                   #'final_finding',\n",
        "                    'final_outcome', \n",
        "                   'disciplined', # has nAn\n",
        "                   'gender', \n",
        "                   'race', \n",
        "                   #'rank', #??????????????????????? \n",
        "                   'category_name']"
      ],
      "metadata": {
        "id": "fRqGMI19rt-P"
      },
      "execution_count": null,
      "outputs": []
    },
    {
      "cell_type": "code",
      "source": [
        "data = data[data['days_experience'].notna()]\n",
        "data = data[data['age_at_time_of_incident'].notna()]\n",
        "\n",
        "X_old = data[columns_to_keep]\n",
        "y = data['incident_in_2_years_bool']\n",
        "print('X:', X_old.shape)\n",
        "print('y:', y.shape)"
      ],
      "metadata": {
        "colab": {
          "base_uri": "https://localhost:8080/"
        },
        "id": "XM--R04FsB77",
        "outputId": "04cf29df-b57c-405f-8927-eb8065e3ec3b"
      },
      "execution_count": null,
      "outputs": [
        {
          "output_type": "stream",
          "name": "stdout",
          "text": [
            "X: (14207, 21)\n",
            "y: (14207,)\n"
          ]
        }
      ]
    },
    {
      "cell_type": "code",
      "source": [],
      "metadata": {
        "id": "-ic8zecO1KN0"
      },
      "execution_count": null,
      "outputs": []
    },
    {
      "cell_type": "markdown",
      "source": [
        "# One-hot Encoding"
      ],
      "metadata": {
        "id": "vmITqU5dr-sj"
      }
    },
    {
      "cell_type": "code",
      "source": [
        "# Using make_column_transformer to One-Hot Encode \n",
        "from sklearn.preprocessing import OneHotEncoder\n",
        "from sklearn.compose import make_column_transformer\n",
        "from seaborn import load_dataset\n",
        "import pandas as pd\n",
        "import scipy\n",
        "\n",
        "# (https://datagy.io/sklearn-one-hot-encode/)\n",
        "transformer = make_column_transformer(\n",
        "    (OneHotEncoder(), categorical_columns),\n",
        "    remainder='passthrough')\n",
        "\n",
        "transformed = transformer.fit_transform(X_old)\n",
        "transformed_df = pd.DataFrame(\n",
        "    transformed if not scipy.sparse.issparse(transformed) else transformed.toarray(), \n",
        "    columns=transformer.get_feature_names()\n",
        ")\n",
        "type(transformed)"
      ],
      "metadata": {
        "colab": {
          "base_uri": "https://localhost:8080/"
        },
        "id": "DUGYshDxxMhx",
        "outputId": "59c44546-b76c-4a7c-acc8-2d6d66f88c35"
      },
      "execution_count": null,
      "outputs": [
        {
          "output_type": "stream",
          "name": "stderr",
          "text": [
            "/usr/local/lib/python3.7/dist-packages/sklearn/utils/deprecation.py:87: FutureWarning: Function get_feature_names is deprecated; get_feature_names is deprecated in 1.0 and will be removed in 1.2. Please use get_feature_names_out instead.\n",
            "  warnings.warn(msg, category=FutureWarning)\n"
          ]
        },
        {
          "output_type": "execute_result",
          "data": {
            "text/plain": [
              "numpy.ndarray"
            ]
          },
          "metadata": {},
          "execution_count": 44
        }
      ]
    },
    {
      "cell_type": "code",
      "source": [
        "transformed_df.columns"
      ],
      "metadata": {
        "colab": {
          "base_uri": "https://localhost:8080/"
        },
        "id": "3Hc6mLxpsi6P",
        "outputId": "4b630ff8-3288-4277-e42a-c0f92d8e16d5"
      },
      "execution_count": null,
      "outputs": [
        {
          "output_type": "execute_result",
          "data": {
            "text/plain": [
              "Index(['onehotencoder__x0_1 Week or less Suspension',\n",
              "       'onehotencoder__x0_1 Week to 1 Month Suspension',\n",
              "       'onehotencoder__x0_No Action Taken',\n",
              "       'onehotencoder__x0_Penalty Not Served',\n",
              "       'onehotencoder__x0_Reinstated By Police Board',\n",
              "       'onehotencoder__x0_Reprimand', 'onehotencoder__x0_Resigned',\n",
              "       'onehotencoder__x0_Separation',\n",
              "       'onehotencoder__x0_Suspended Over 30 Days', 'onehotencoder__x0_Unknown',\n",
              "       'onehotencoder__x0_Violation Noted',\n",
              "       'onehotencoder__x1_1 Week or less Suspension',\n",
              "       'onehotencoder__x1_1 Week to 1 Month Suspension',\n",
              "       'onehotencoder__x1_Administrative Termination',\n",
              "       'onehotencoder__x1_No Action Taken',\n",
              "       'onehotencoder__x1_Penalty Not Served',\n",
              "       'onehotencoder__x1_Reinstated By Court Action',\n",
              "       'onehotencoder__x1_Reinstated By Police Board',\n",
              "       'onehotencoder__x1_Reprimand', 'onehotencoder__x1_Resigned',\n",
              "       'onehotencoder__x1_Separation',\n",
              "       'onehotencoder__x1_Suspended Over 30 Days',\n",
              "       'onehotencoder__x1_Suspension', 'onehotencoder__x1_Unknown',\n",
              "       'onehotencoder__x1_Violation Noted', 'onehotencoder__x2_False',\n",
              "       'onehotencoder__x2_True', 'onehotencoder__x2_nan',\n",
              "       'onehotencoder__x3_F', 'onehotencoder__x3_M',\n",
              "       'onehotencoder__x4_Asian/Pacific', 'onehotencoder__x4_Black',\n",
              "       'onehotencoder__x4_Hispanic',\n",
              "       'onehotencoder__x4_Native American/Alaskan Native',\n",
              "       'onehotencoder__x4_White',\n",
              "       'onehotencoder__x5_Bribery / Official Corruption',\n",
              "       'onehotencoder__x5_Conduct Unbecoming (Off-Duty)',\n",
              "       'onehotencoder__x5_Criminal Misconduct', 'onehotencoder__x5_Domestic',\n",
              "       'onehotencoder__x5_Drug / Alcohol Abuse',\n",
              "       'onehotencoder__x5_Excessive Force', 'onehotencoder__x5_False Arrest',\n",
              "       'onehotencoder__x5_First Amendment', 'onehotencoder__x5_Illegal Search',\n",
              "       'onehotencoder__x5_Lockup Procedures', 'onehotencoder__x5_Medical',\n",
              "       'onehotencoder__x5_Money / Property',\n",
              "       'onehotencoder__x5_Operation/Personnel Violations',\n",
              "       'onehotencoder__x5_Racial Profiling',\n",
              "       'onehotencoder__x5_Supervisory Responsibilities',\n",
              "       'onehotencoder__x5_Traffic', 'onehotencoder__x5_Unknown',\n",
              "       'onehotencoder__x5_Use Of Force', 'onehotencoder__x5_Verbal Abuse',\n",
              "       'complaint_percentile', 'civilian_allegation_percentile',\n",
              "       'honorable_mention_percentile', 'internal_allegation_percentile',\n",
              "       'allegation_count', 'sustained_count', 'civilian_compliment_count',\n",
              "       'current_salary', 'discipline_count', 'honorable_mention_count',\n",
              "       'major_award_count', 'trr_count', 'unsustained_count',\n",
              "       'age_at_time_of_incident', 'days_experience'],\n",
              "      dtype='object')"
            ]
          },
          "metadata": {},
          "execution_count": 45
        }
      ]
    },
    {
      "cell_type": "code",
      "source": [
        "X = transformed_df"
      ],
      "metadata": {
        "id": "WsssLVchzrlO"
      },
      "execution_count": null,
      "outputs": []
    },
    {
      "cell_type": "markdown",
      "source": [
        "# Train-Test Split"
      ],
      "metadata": {
        "id": "zrkXrEwq7G8F"
      }
    },
    {
      "cell_type": "code",
      "source": [
        "from sklearn.model_selection import train_test_split\n",
        "X_train, X_test, y_train, y_test = train_test_split(X, y, test_size=0.33, random_state=42)\n",
        "print('X_train size:', X_train.shape)\n",
        "print('y_train size:', y_train.shape)\n",
        "print('X_test size:', X_test.shape)\n",
        "print('y_test size:', y_test.shape)"
      ],
      "metadata": {
        "colab": {
          "base_uri": "https://localhost:8080/"
        },
        "id": "eQwgVOmm7F_3",
        "outputId": "59ca3a52-4a78-4d44-ed66-136a50f25c84"
      },
      "execution_count": null,
      "outputs": [
        {
          "output_type": "stream",
          "name": "stdout",
          "text": [
            "X_train size: (9518, 69)\n",
            "y_train size: (9518,)\n",
            "X_test size: (4689, 69)\n",
            "y_test size: (4689,)\n"
          ]
        }
      ]
    },
    {
      "cell_type": "markdown",
      "source": [
        "# Test on Logistic Regression"
      ],
      "metadata": {
        "id": "7U_aVP7O8OSy"
      }
    },
    {
      "cell_type": "code",
      "source": [
        "\n",
        "from sklearn.linear_model import LogisticRegression\n",
        "\n",
        "clf = LogisticRegression(random_state=0).fit(X_train, y_train)\n",
        "clf.score(X_test, y_test)"
      ],
      "metadata": {
        "colab": {
          "base_uri": "https://localhost:8080/"
        },
        "id": "4AtDe7EUykbL",
        "outputId": "ddc08512-3258-4d0d-f344-7c1fe720dbf2"
      },
      "execution_count": null,
      "outputs": [
        {
          "output_type": "stream",
          "name": "stderr",
          "text": [
            "/usr/local/lib/python3.7/dist-packages/sklearn/linear_model/_logistic.py:818: ConvergenceWarning: lbfgs failed to converge (status=1):\n",
            "STOP: TOTAL NO. of ITERATIONS REACHED LIMIT.\n",
            "\n",
            "Increase the number of iterations (max_iter) or scale the data as shown in:\n",
            "    https://scikit-learn.org/stable/modules/preprocessing.html\n",
            "Please also refer to the documentation for alternative solver options:\n",
            "    https://scikit-learn.org/stable/modules/linear_model.html#logistic-regression\n",
            "  extra_warning_msg=_LOGISTIC_SOLVER_CONVERGENCE_MSG,\n"
          ]
        },
        {
          "output_type": "execute_result",
          "data": {
            "text/plain": [
              "0.7833226700789081"
            ]
          },
          "metadata": {},
          "execution_count": 48
        }
      ]
    },
    {
      "cell_type": "markdown",
      "source": [
        "# Grid Search: Logistic Regression\n"
      ],
      "metadata": {
        "id": "welnfnCB8S5N"
      }
    },
    {
      "cell_type": "code",
      "source": [
        "from sklearn.model_selection import GridSearchCV\n",
        "\n",
        "parameters = {'C': np.logspace(-4, 4, 40).tolist() + [1],\n",
        "              'penalty': ['l1', 'l2'],\n",
        "              }\n",
        "\n",
        "model = LogisticRegression(random_state=0, max_iter=500)\n",
        "clf = GridSearchCV(model, parameters)\n",
        "clf.fit(X_train, y_train)\n",
        "clf.score(X_test, y_test)"
      ],
      "metadata": {
        "colab": {
          "base_uri": "https://localhost:8080/"
        },
        "id": "TQKWogdm8hge",
        "outputId": "427a1e60-4a09-4dc2-aaed-47eff90cf8e5"
      },
      "execution_count": null,
      "outputs": [
        {
          "output_type": "stream",
          "name": "stderr",
          "text": [
            "/usr/local/lib/python3.7/dist-packages/sklearn/model_selection/_validation.py:372: FitFailedWarning: \n",
            "205 fits failed out of a total of 410.\n",
            "The score on these train-test partitions for these parameters will be set to nan.\n",
            "If these failures are not expected, you can try to debug them by setting error_score='raise'.\n",
            "\n",
            "Below are more details about the failures:\n",
            "--------------------------------------------------------------------------------\n",
            "205 fits failed with the following error:\n",
            "Traceback (most recent call last):\n",
            "  File \"/usr/local/lib/python3.7/dist-packages/sklearn/model_selection/_validation.py\", line 680, in _fit_and_score\n",
            "    estimator.fit(X_train, y_train, **fit_params)\n",
            "  File \"/usr/local/lib/python3.7/dist-packages/sklearn/linear_model/_logistic.py\", line 1461, in fit\n",
            "    solver = _check_solver(self.solver, self.penalty, self.dual)\n",
            "  File \"/usr/local/lib/python3.7/dist-packages/sklearn/linear_model/_logistic.py\", line 449, in _check_solver\n",
            "    % (solver, penalty)\n",
            "ValueError: Solver lbfgs supports only 'l2' or 'none' penalties, got l1 penalty.\n",
            "\n",
            "  warnings.warn(some_fits_failed_message, FitFailedWarning)\n",
            "/usr/local/lib/python3.7/dist-packages/sklearn/model_selection/_search.py:972: UserWarning: One or more of the test scores are non-finite: [       nan 0.78125577        nan 0.78419832        nan 0.78335793\n",
            "        nan 0.7808367         nan 0.78020689        nan 0.78409334\n",
            "        nan 0.78577451        nan 0.78493378        nan 0.78419849\n",
            "        nan 0.78304303        nan 0.78440852        nan 0.78440852\n",
            "        nan 0.78440857        nan 0.78472381        nan 0.78493384\n",
            "        nan 0.78451345        nan 0.78419844        nan 0.78136087\n",
            "        nan 0.78472381        nan 0.7843032         nan 0.78146751\n",
            "        nan 0.78272812        nan 0.78587994        nan 0.78472376\n",
            "        nan 0.78566974        nan 0.78199266        nan 0.77821115\n",
            "        nan 0.78157244        nan 0.78199266        nan 0.77821115\n",
            "        nan 0.78482885        nan 0.78430359        nan 0.78367295\n",
            "        nan 0.7848288         nan 0.78419855        nan 0.7847237\n",
            "        nan 0.78104546        nan 0.78556415        nan 0.78672011\n",
            "        nan 0.78651013        nan 0.78146596]\n",
            "  category=UserWarning,\n"
          ]
        },
        {
          "output_type": "execute_result",
          "data": {
            "text/plain": [
              "0.7901471529110684"
            ]
          },
          "metadata": {},
          "execution_count": 39
        }
      ]
    },
    {
      "cell_type": "code",
      "source": [
        "best_model_idx = np.nanargmax(clf.cv_results_['mean_test_score'])\n",
        "print(best_model_idx)\n",
        "print(len(clf.cv_results_['mean_test_score']))\n",
        "print(clf.cv_results_['mean_test_score'][best_model_idx])\n",
        "clf.cv_results_['params'][best_model_idx]"
      ],
      "metadata": {
        "colab": {
          "base_uri": "https://localhost:8080/"
        },
        "id": "k2Wg_ya_-aQd",
        "outputId": "45cc1cfd-3bbd-4f55-f873-b0d6d2b325d7"
      },
      "execution_count": null,
      "outputs": [
        {
          "output_type": "stream",
          "name": "stdout",
          "text": [
            "77\n",
            "82\n",
            "0.7867201058037508\n"
          ]
        },
        {
          "output_type": "execute_result",
          "data": {
            "text/plain": [
              "{'C': 6235.507341273912, 'penalty': 'l2'}"
            ]
          },
          "metadata": {},
          "execution_count": 43
        }
      ]
    },
    {
      "cell_type": "markdown",
      "source": [
        "# Decision Tree"
      ],
      "metadata": {
        "id": "l4gD1Ad7CSy6"
      }
    },
    {
      "cell_type": "code",
      "source": [
        "from sklearn.tree import DecisionTreeClassifier\n",
        "from sklearn.model_selection import GridSearchCV\n",
        "\n",
        "parameters = {'max_depth': np.linspace(1, 32, 8, endpoint=True),\n",
        "              'min_samples_split': np.linspace(0.001, 0.1, 10, endpoint=True),  # np.linspace(0.1, 1.0, 10, endpoint=True)\n",
        "              'min_samples_leaf': np.linspace(0.001, 0.1, 5, endpoint=True),   # np.linspace(0.1, 0.5, 5, endpoint=True)\n",
        "              # 'max_features': list(range(1, X_train.shape[1]))\n",
        "              }\n",
        "\n",
        "model = DecisionTreeClassifier(random_state=0)\n",
        "clf = GridSearchCV(model, parameters)\n",
        "clf.fit(X_train, y_train)\n",
        "clf.score(X_test, y_test)"
      ],
      "metadata": {
        "colab": {
          "base_uri": "https://localhost:8080/"
        },
        "id": "OEqxGvPmCUtS",
        "outputId": "58098955-25ae-4340-9988-a0315df4d994"
      },
      "execution_count": null,
      "outputs": [
        {
          "output_type": "execute_result",
          "data": {
            "text/plain": [
              "0.8059287694604393"
            ]
          },
          "metadata": {},
          "execution_count": 51
        }
      ]
    },
    {
      "cell_type": "code",
      "source": [
        "best_model_idx = np.nanargmax(clf.cv_results_['mean_test_score'])\n",
        "print('best model idx:', best_model_idx)\n",
        "print('number of models trained:', len(clf.cv_results_['mean_test_score']))\n",
        "print('score:', clf.cv_results_['mean_test_score'][best_model_idx])\n",
        "clf.cv_results_['params'][best_model_idx]"
      ],
      "metadata": {
        "colab": {
          "base_uri": "https://localhost:8080/"
        },
        "id": "DRnQszGmEbtr",
        "outputId": "e815dd15-eb69-44e3-c303-493075bc38c7"
      },
      "execution_count": null,
      "outputs": [
        {
          "output_type": "stream",
          "name": "stdout",
          "text": [
            "best model idx: 97\n",
            "number of models trained: 192\n",
            "score: 0.8012181672458789\n"
          ]
        },
        {
          "output_type": "execute_result",
          "data": {
            "text/plain": [
              "{'max_depth': 21.666666666666668,\n",
              " 'min_samples_leaf': 0.01,\n",
              " 'min_samples_split': 0.01,\n",
              " 'n_estimators': 100}"
            ]
          },
          "metadata": {},
          "execution_count": 14
        }
      ]
    },
    {
      "cell_type": "markdown",
      "source": [
        "# Random Forest Classifier"
      ],
      "metadata": {
        "id": "Zp8-IVoTFmzy"
      }
    },
    {
      "cell_type": "code",
      "source": [
        "from sklearn.ensemble import RandomForestClassifier\n",
        "from sklearn.model_selection import GridSearchCV\n",
        "\n",
        "parameters = {'n_estimators': [50,100,200],\n",
        "              'max_depth': np.linspace(1, 32, 4, endpoint=True),\n",
        "              'min_samples_split': np.logspace(-2, 0, 4),  # np.linspace(0.1, 1.0, 10, endpoint=True)\n",
        "              'min_samples_leaf': np.logspace(-2, -0.32, 4),   # np.linspace(0.1, 0.5, 5, endpoint=True)\n",
        "              # 'max_features': list(range(1, X_train.shape[1]))\n",
        "              }\n",
        "\n",
        "\n",
        "model = RandomForestClassifier(random_state=0)\n",
        "clf = GridSearchCV(model, parameters)\n",
        "clf.fit(X_train, y_train)\n",
        "clf.score(X_test, y_test)"
      ],
      "metadata": {
        "id": "lmaQPA27FpVB",
        "colab": {
          "base_uri": "https://localhost:8080/"
        },
        "outputId": "3465eeea-e63f-4e37-dcb1-62d5d5625198"
      },
      "execution_count": null,
      "outputs": [
        {
          "output_type": "execute_result",
          "data": {
            "text/plain": [
              "0.8014502026018341"
            ]
          },
          "metadata": {},
          "execution_count": 13
        }
      ]
    },
    {
      "cell_type": "code",
      "source": [
        "best_model_idx = np.nanargmax(clf.cv_results_['mean_test_score'])\n",
        "print('best model idx:', best_model_idx)\n",
        "print('number of models trained:', len(clf.cv_results_['mean_test_score']))\n",
        "print('score:', clf.cv_results_['mean_test_score'][best_model_idx])\n",
        "clf.cv_results_['params'][best_model_idx]"
      ],
      "metadata": {
        "colab": {
          "base_uri": "https://localhost:8080/"
        },
        "id": "3bgKwvVw5bHP",
        "outputId": "42c12a7a-2f25-4c44-9843-81a9952a7d6e"
      },
      "execution_count": null,
      "outputs": [
        {
          "output_type": "stream",
          "name": "stdout",
          "text": [
            "best model idx: 97\n",
            "number of models trained: 192\n",
            "score: 0.8012181672458789\n"
          ]
        },
        {
          "output_type": "execute_result",
          "data": {
            "text/plain": [
              "{'max_depth': 21.666666666666668,\n",
              " 'min_samples_leaf': 0.01,\n",
              " 'min_samples_split': 0.01,\n",
              " 'n_estimators': 100}"
            ]
          },
          "metadata": {},
          "execution_count": 15
        }
      ]
    },
    {
      "cell_type": "markdown",
      "source": [
        "best model idx: 97\n",
        "number of models trained: 192\n",
        "score: 0.8012181672458789\n",
        "{'max_depth': 21.666666666666668,\n",
        " 'min_samples_leaf': 0.01,\n",
        " 'min_samples_split': 0.01,\n",
        " 'n_estimators': 100}"
      ],
      "metadata": {
        "id": "uZLE3RN235X7"
      }
    },
    {
      "cell_type": "markdown",
      "source": [
        "# Gradient Boosting Classifer"
      ],
      "metadata": {
        "id": "Bf9XgUwfFptQ"
      }
    },
    {
      "cell_type": "code",
      "source": [
        "# TODO\n",
        "from sklearn.ensemble import GradientBoostingClassifier\n",
        "from sklearn.model_selection import GridSearchCV\n",
        "\n",
        "parameters = {'n_estimators': [50,100,200],\n",
        "              'max_depth': np.linspace(1, 32, 4, endpoint=True),\n",
        "              'min_samples_split': np.logspace(-2, 0, 4),  # np.linspace(0.1, 1.0, 10, endpoint=True)\n",
        "              'min_samples_leaf': np.logspace(-2, -0.32, 4),   # np.linspace(0.1, 0.5, 5, endpoint=True)\n",
        "              # 'max_features': list(range(1, X_train.shape[1]))\n",
        "              }\n",
        "model = GradientBoostingClassifier(random_state=0)\n",
        "clf = GridSearchCV(model, parameters)\n",
        "clf.fit(X_train, y_train)\n",
        "clf.score(X_test, y_test)"
      ],
      "metadata": {
        "id": "LnJaTkrJFsmg"
      },
      "execution_count": null,
      "outputs": []
    },
    {
      "cell_type": "code",
      "source": [
        "best_model_idx = np.nanargmax(clf.cv_results_['mean_test_score'])\n",
        "print('best model idx:', best_model_idx)\n",
        "print('number of models trained:', len(clf.cv_results_['mean_test_score']))\n",
        "print('score:', clf.cv_results_['mean_test_score'][best_model_idx])\n",
        "clf.cv_results_['params'][best_model_idx]"
      ],
      "metadata": {
        "id": "W-Rzzg93E_kc"
      },
      "execution_count": null,
      "outputs": []
    },
    {
      "cell_type": "markdown",
      "source": [
        "best model idx: 2\n",
        "number of models trained: 192\n",
        "score: 0.8117255152192249\n",
        "{'max_depth': 1.0,\n",
        " 'min_samples_leaf': 0.01,\n",
        " 'min_samples_split': 0.01,\n",
        " 'n_estimators': 200}\n",
        " "
      ],
      "metadata": {
        "id": "582GLBYL32M4"
      }
    },
    {
      "cell_type": "markdown",
      "source": [
        "# Neural Network"
      ],
      "metadata": {
        "id": "5HIwl1FAG47O"
      }
    },
    {
      "cell_type": "code",
      "source": [
        "from sklearn.neural_network import MLPClassifier\n",
        "\n",
        "clf = MLPClassifier(solver='lbfgs', alpha=1e-5, max_iter=1000,\n",
        "                     hidden_layer_sizes=(100, 10), random_state=1)\n",
        "\n",
        "clf.fit(X_train, y_train)\n",
        "clf.score(X_test, y_test)"
      ],
      "metadata": {
        "colab": {
          "base_uri": "https://localhost:8080/"
        },
        "id": "71zoXji_G8Lu",
        "outputId": "3ba1032b-9674-4a78-9546-8129706a5f4d"
      },
      "execution_count": null,
      "outputs": [
        {
          "output_type": "stream",
          "name": "stderr",
          "text": [
            "/usr/local/lib/python3.7/dist-packages/sklearn/neural_network/_multilayer_perceptron.py:549: ConvergenceWarning: lbfgs failed to converge (status=2):\n",
            "ABNORMAL_TERMINATION_IN_LNSRCH.\n",
            "\n",
            "Increase the number of iterations (max_iter) or scale the data as shown in:\n",
            "    https://scikit-learn.org/stable/modules/preprocessing.html\n",
            "  self.n_iter_ = _check_optimize_result(\"lbfgs\", opt_res, self.max_iter)\n"
          ]
        },
        {
          "output_type": "execute_result",
          "data": {
            "text/plain": [
              "0.7713798251226274"
            ]
          },
          "metadata": {},
          "execution_count": 57
        }
      ]
    },
    {
      "cell_type": "markdown",
      "source": [
        "# Use the best model: Gradient Boosting Classifier\n",
        "And plot the importances of each feature in the classifier"
      ],
      "metadata": {
        "id": "2LKymqE38oz7"
      }
    },
    {
      "cell_type": "code",
      "source": [
        "from sklearn.ensemble import GradientBoostingClassifier\n",
        "params={'max_depth': 1.0,\n",
        " 'min_samples_leaf': 0.01,\n",
        " 'min_samples_split': 0.01,\n",
        " 'n_estimators': 200}\n",
        "clf = GradientBoostingClassifier(random_state=0, max_depth=1.0, min_samples_leaf=0.01, min_samples_split=0.01, n_estimators=200)\n",
        "clf.fit(X_train, y_train)\n",
        "clf.score(X_test, y_test)"
      ],
      "metadata": {
        "colab": {
          "base_uri": "https://localhost:8080/"
        },
        "id": "1RBIFmOq86mE",
        "outputId": "49edda37-4ea0-45fe-f980-30d98c2a783b"
      },
      "execution_count": null,
      "outputs": [
        {
          "output_type": "execute_result",
          "data": {
            "text/plain": [
              "0.8116869268500746"
            ]
          },
          "metadata": {},
          "execution_count": 49
        }
      ]
    },
    {
      "cell_type": "code",
      "source": [
        "from sklearn.metrics import confusion_matrix\n",
        "from sklearn.metrics import f1_score\n",
        "y_pred = clf.predict(X_test)\n",
        "cm = confusion_matrix(y_test, y_pred)\n",
        "cf = {'tn': cm[0, 0], 'fp': cm[0, 1], 'fn': cm[1, 0], 'tp': cm[1, 1]}\n",
        "\n",
        "\n",
        "\n",
        "# calc percent of negatives guessed right tn / tn + fn\n",
        "print('F1 Score:', f1_score(y_test, y_pred))\n",
        "print('Accuracy on Negative Class:', cf['tn'] / (cf['tn'] + cf['fn']) )\n",
        "print('Accuracy on Positive Class:', cf['tp'] / (cf['tp'] + cf['fp']) )\n",
        "cf"
      ],
      "metadata": {
        "colab": {
          "base_uri": "https://localhost:8080/"
        },
        "id": "kpImopAVP5pU",
        "outputId": "655b6c97-7356-4d14-bc9f-f67e2827dbe7"
      },
      "execution_count": null,
      "outputs": [
        {
          "output_type": "stream",
          "name": "stdout",
          "text": [
            "F1 Score: 0.4463949843260189\n",
            "Accuracy on Negative Class: 0.828132501200192\n",
            "Accuracy on Positive Class: 0.6806883365200764\n"
          ]
        },
        {
          "output_type": "execute_result",
          "data": {
            "text/plain": [
              "{'tn': 3450, 'fp': 167, 'fn': 716, 'tp': 356}"
            ]
          },
          "metadata": {},
          "execution_count": 76
        }
      ]
    },
    {
      "cell_type": "code",
      "source": [
        "importances = list( zip(clf.feature_importances_, X.columns) )\n",
        "importances.sort(key = lambda x: x[0], reverse=True)\n",
        "\n",
        "from matplotlib import pyplot as plt\n",
        "\n",
        "val = list( list(zip(*importances[:10]))[0] )\n",
        "label = list( list(zip(*importances[:10]))[1] )\n",
        "val.reverse()\n",
        "label.reverse()\n",
        "\n",
        "\n",
        "f = plt.figure()\n",
        "f.set_figwidth(20)\n",
        "f.set_figheight(10)\n",
        "\n",
        "y_pos = np.arange(len(val))\n",
        "\n",
        "plt.barh(y_pos, val, align='center', alpha=0.5)\n",
        "plt.yticks(y_pos, label)\n",
        "plt.xlabel('Importance')\n",
        "plt.title('Importances of Top 10 Features in GradientBoostingClassifier')\n",
        "\n",
        "# put text on bars\n",
        "for index, value in enumerate(val):\n",
        "    plt.text(value, index, str(format(value, '.3f')))\n",
        "\n",
        "plt.show()"
      ],
      "metadata": {
        "colab": {
          "base_uri": "https://localhost:8080/",
          "height": 621
        },
        "id": "dDIU0okfAjFy",
        "outputId": "c50e85a0-19b4-4c2f-f3f3-4aab9d36596b"
      },
      "execution_count": null,
      "outputs": [
        {
          "output_type": "display_data",
          "data": {
            "text/plain": [
              "<Figure size 1440x720 with 1 Axes>"
            ],
            "image/png": "[encoded data removed]"
          },
          "metadata": {
            "needs_background": "light"
          }
        }
      ]
    },
    {
      "cell_type": "markdown",
      "source": [
        "# TODO:\n",
        "- split X into training/testing 80/20? \n",
        "- try different classifier models, maybe cross-validation grid search\n",
        "- repeat until you get a good model 80%? \n",
        "\n",
        "Models:\n",
        "- Logisitc Regression\n",
        "- Decision Tree\n",
        "- Random Forest\n",
        "- Boosting\n",
        "- GradientBoostingClassifier\n",
        "- NN? out of scope?\n",
        "\n",
        "- parameter importance? what features are weighted most in the decision in each model? plot this?\n",
        "\n",
        "\n"
      ],
      "metadata": {
        "id": "DVIcUPUQ4RvC"
      }
    },
    {
      "cell_type": "code",
      "source": [],
      "metadata": {
        "id": "CPj-Jz6OG715"
      },
      "execution_count": null,
      "outputs": []
    },
    {
      "cell_type": "code",
      "source": [],
      "metadata": {
        "id": "EczvhdAZ6r_c"
      },
      "execution_count": null,
      "outputs": []
    }
  ]
}